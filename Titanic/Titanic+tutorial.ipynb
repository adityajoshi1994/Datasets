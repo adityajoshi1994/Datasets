{
 "cells": [
  {
   "cell_type": "markdown",
   "metadata": {},
   "source": [
    "Author: Aditya Joshi."
   ]
  },
  {
   "cell_type": "code",
   "execution_count": 1,
   "metadata": {
    "collapsed": true
   },
   "outputs": [],
   "source": [
    "import numpy as np\n",
    "import pandas as pd\n",
    "import matplotlib.pyplot as plt\n",
    "import seaborn as sns"
   ]
  },
  {
   "cell_type": "code",
   "execution_count": 2,
   "metadata": {},
   "outputs": [
    {
     "data": {
      "text/html": [
       "<div>\n",
       "<style>\n",
       "    .dataframe thead tr:only-child th {\n",
       "        text-align: right;\n",
       "    }\n",
       "\n",
       "    .dataframe thead th {\n",
       "        text-align: left;\n",
       "    }\n",
       "\n",
       "    .dataframe tbody tr th {\n",
       "        vertical-align: top;\n",
       "    }\n",
       "</style>\n",
       "<table border=\"1\" class=\"dataframe\">\n",
       "  <thead>\n",
       "    <tr style=\"text-align: right;\">\n",
       "      <th></th>\n",
       "      <th>PassengerId</th>\n",
       "      <th>Survived</th>\n",
       "      <th>Pclass</th>\n",
       "      <th>Name</th>\n",
       "      <th>Sex</th>\n",
       "      <th>Age</th>\n",
       "      <th>SibSp</th>\n",
       "      <th>Parch</th>\n",
       "      <th>Ticket</th>\n",
       "      <th>Fare</th>\n",
       "      <th>Cabin</th>\n",
       "      <th>Embarked</th>\n",
       "    </tr>\n",
       "  </thead>\n",
       "  <tbody>\n",
       "    <tr>\n",
       "      <th>161</th>\n",
       "      <td>162</td>\n",
       "      <td>1</td>\n",
       "      <td>2</td>\n",
       "      <td>Watt, Mrs. James (Elizabeth \"Bessie\" Inglis Mi...</td>\n",
       "      <td>female</td>\n",
       "      <td>40.0</td>\n",
       "      <td>0</td>\n",
       "      <td>0</td>\n",
       "      <td>C.A. 33595</td>\n",
       "      <td>15.7500</td>\n",
       "      <td>NaN</td>\n",
       "      <td>S</td>\n",
       "    </tr>\n",
       "    <tr>\n",
       "      <th>396</th>\n",
       "      <td>397</td>\n",
       "      <td>0</td>\n",
       "      <td>3</td>\n",
       "      <td>Olsson, Miss. Elina</td>\n",
       "      <td>female</td>\n",
       "      <td>31.0</td>\n",
       "      <td>0</td>\n",
       "      <td>0</td>\n",
       "      <td>350407</td>\n",
       "      <td>7.8542</td>\n",
       "      <td>NaN</td>\n",
       "      <td>S</td>\n",
       "    </tr>\n",
       "    <tr>\n",
       "      <th>875</th>\n",
       "      <td>876</td>\n",
       "      <td>1</td>\n",
       "      <td>3</td>\n",
       "      <td>Najib, Miss. Adele Kiamie \"Jane\"</td>\n",
       "      <td>female</td>\n",
       "      <td>15.0</td>\n",
       "      <td>0</td>\n",
       "      <td>0</td>\n",
       "      <td>2667</td>\n",
       "      <td>7.2250</td>\n",
       "      <td>NaN</td>\n",
       "      <td>C</td>\n",
       "    </tr>\n",
       "  </tbody>\n",
       "</table>\n",
       "</div>"
      ],
      "text/plain": [
       "     PassengerId  Survived  Pclass  \\\n",
       "161          162         1       2   \n",
       "396          397         0       3   \n",
       "875          876         1       3   \n",
       "\n",
       "                                                  Name     Sex   Age  SibSp  \\\n",
       "161  Watt, Mrs. James (Elizabeth \"Bessie\" Inglis Mi...  female  40.0      0   \n",
       "396                                Olsson, Miss. Elina  female  31.0      0   \n",
       "875                   Najib, Miss. Adele Kiamie \"Jane\"  female  15.0      0   \n",
       "\n",
       "     Parch      Ticket     Fare Cabin Embarked  \n",
       "161      0  C.A. 33595  15.7500   NaN        S  \n",
       "396      0      350407   7.8542   NaN        S  \n",
       "875      0        2667   7.2250   NaN        C  "
      ]
     },
     "execution_count": 2,
     "metadata": {},
     "output_type": "execute_result"
    }
   ],
   "source": [
    "data_train = pd.read_csv('/Users/adityajoshi/DataSets/Datasets/Titanic/Titanic_train.csv')\n",
    "data_test = pd.read_csv('/Users/adityajoshi/DataSets/Datasets/Titanic/Titanic_test.csv')\n",
    "data_train.sample(3)"
   ]
  },
  {
   "cell_type": "code",
   "execution_count": 3,
   "metadata": {},
   "outputs": [
    {
     "data": {
      "image/png": "[encoded data removed]",
      "text/plain": [
       "<matplotlib.figure.Figure at 0x10df2e6d0>"
      ]
     },
     "metadata": {},
     "output_type": "display_data"
    }
   ],
   "source": [
    "#Embarked vs Survived\n",
    "sns.barplot(x=\"Embarked\", y=\"Survived\", hue=\"Sex\", data=data_train);\n",
    "plt.show()"
   ]
  },
  {
   "cell_type": "code",
   "execution_count": 4,
   "metadata": {},
   "outputs": [
    {
     "data": {
      "text/plain": [
       "<matplotlib.axes._subplots.AxesSubplot at 0x1125f5f90>"
      ]
     },
     "execution_count": 4,
     "metadata": {},
     "output_type": "execute_result"
    }
   ],
   "source": [
    "#Pclass vs Survived with gender classification\n",
    "sns.pointplot(x=\"Pclass\", y=\"Survived\", hue=\"Sex\", data=data_train,\n",
    "              palette={\"male\": \"blue\", \"female\": \"pink\"},\n",
    "              markers=[\"*\", \"o\"], linestyles=[\"-\", \"--\"])"
   ]
  },
  {
   "cell_type": "code",
   "execution_count": null,
   "metadata": {
    "collapsed": true
   },
   "outputs": [],
   "source": []
  },
  {
   "cell_type": "code",
   "execution_count": 5,
   "metadata": {},
   "outputs": [
    {
     "data": {
      "image/png": "[encoded data removed]",
      "text/plain": [
       "<matplotlib.figure.Figure at 0x112871f10>"
      ]
     },
     "metadata": {},
     "output_type": "display_data"
    }
   ],
   "source": [
    "plt.show()"
   ]
  },
  {
   "cell_type": "code",
   "execution_count": 6,
   "metadata": {},
   "outputs": [
    {
     "data": {
      "text/plain": [
       "0"
      ]
     },
     "execution_count": 6,
     "metadata": {},
     "output_type": "execute_result"
    }
   ],
   "source": [
    "#No missing val in Survived\n",
    "data_train['Survived'].isnull().sum()"
   ]
  },
  {
   "cell_type": "code",
   "execution_count": 7,
   "metadata": {
    "collapsed": true
   },
   "outputs": [],
   "source": [
    "#Drop Survived from train\n",
    "survived = data_train['Survived']\n",
    "data_train.drop('Survived',axis = 1,inplace = True)"
   ]
  },
  {
   "cell_type": "code",
   "execution_count": 8,
   "metadata": {},
   "outputs": [
    {
     "data": {
      "text/plain": [
       "0"
      ]
     },
     "execution_count": 8,
     "metadata": {},
     "output_type": "execute_result"
    }
   ],
   "source": [
    "#Passenger ID not important while training\n",
    "data_test['PassengerId'].isnull().sum()"
   ]
  },
  {
   "cell_type": "code",
   "execution_count": 9,
   "metadata": {
    "collapsed": true
   },
   "outputs": [],
   "source": [
    "Pssid = data_test['PassengerId']"
   ]
  },
  {
   "cell_type": "code",
   "execution_count": 10,
   "metadata": {},
   "outputs": [
    {
     "data": {
      "text/html": [
       "<div>\n",
       "<style>\n",
       "    .dataframe thead tr:only-child th {\n",
       "        text-align: right;\n",
       "    }\n",
       "\n",
       "    .dataframe thead th {\n",
       "        text-align: left;\n",
       "    }\n",
       "\n",
       "    .dataframe tbody tr th {\n",
       "        vertical-align: top;\n",
       "    }\n",
       "</style>\n",
       "<table border=\"1\" class=\"dataframe\">\n",
       "  <thead>\n",
       "    <tr style=\"text-align: right;\">\n",
       "      <th></th>\n",
       "      <th></th>\n",
       "      <th>PassengerId</th>\n",
       "      <th>Pclass</th>\n",
       "      <th>Name</th>\n",
       "      <th>Sex</th>\n",
       "      <th>Age</th>\n",
       "      <th>SibSp</th>\n",
       "      <th>Parch</th>\n",
       "      <th>Ticket</th>\n",
       "      <th>Fare</th>\n",
       "      <th>Cabin</th>\n",
       "      <th>Embarked</th>\n",
       "    </tr>\n",
       "    <tr>\n",
       "      <th>dataset</th>\n",
       "      <th>index</th>\n",
       "      <th></th>\n",
       "      <th></th>\n",
       "      <th></th>\n",
       "      <th></th>\n",
       "      <th></th>\n",
       "      <th></th>\n",
       "      <th></th>\n",
       "      <th></th>\n",
       "      <th></th>\n",
       "      <th></th>\n",
       "      <th></th>\n",
       "    </tr>\n",
       "  </thead>\n",
       "  <tbody>\n",
       "    <tr>\n",
       "      <th rowspan=\"5\" valign=\"top\">train</th>\n",
       "      <th>0</th>\n",
       "      <td>1</td>\n",
       "      <td>3</td>\n",
       "      <td>Braund, Mr. Owen Harris</td>\n",
       "      <td>male</td>\n",
       "      <td>22.0</td>\n",
       "      <td>1</td>\n",
       "      <td>0</td>\n",
       "      <td>A/5 21171</td>\n",
       "      <td>7.2500</td>\n",
       "      <td>NaN</td>\n",
       "      <td>S</td>\n",
       "    </tr>\n",
       "    <tr>\n",
       "      <th>1</th>\n",
       "      <td>2</td>\n",
       "      <td>1</td>\n",
       "      <td>Cumings, Mrs. John Bradley (Florence Briggs Th...</td>\n",
       "      <td>female</td>\n",
       "      <td>38.0</td>\n",
       "      <td>1</td>\n",
       "      <td>0</td>\n",
       "      <td>PC 17599</td>\n",
       "      <td>71.2833</td>\n",
       "      <td>C85</td>\n",
       "      <td>C</td>\n",
       "    </tr>\n",
       "    <tr>\n",
       "      <th>2</th>\n",
       "      <td>3</td>\n",
       "      <td>3</td>\n",
       "      <td>Heikkinen, Miss. Laina</td>\n",
       "      <td>female</td>\n",
       "      <td>26.0</td>\n",
       "      <td>0</td>\n",
       "      <td>0</td>\n",
       "      <td>STON/O2. 3101282</td>\n",
       "      <td>7.9250</td>\n",
       "      <td>NaN</td>\n",
       "      <td>S</td>\n",
       "    </tr>\n",
       "    <tr>\n",
       "      <th>3</th>\n",
       "      <td>4</td>\n",
       "      <td>1</td>\n",
       "      <td>Futrelle, Mrs. Jacques Heath (Lily May Peel)</td>\n",
       "      <td>female</td>\n",
       "      <td>35.0</td>\n",
       "      <td>1</td>\n",
       "      <td>0</td>\n",
       "      <td>113803</td>\n",
       "      <td>53.1000</td>\n",
       "      <td>C123</td>\n",
       "      <td>S</td>\n",
       "    </tr>\n",
       "    <tr>\n",
       "      <th>4</th>\n",
       "      <td>5</td>\n",
       "      <td>3</td>\n",
       "      <td>Allen, Mr. William Henry</td>\n",
       "      <td>male</td>\n",
       "      <td>35.0</td>\n",
       "      <td>0</td>\n",
       "      <td>0</td>\n",
       "      <td>373450</td>\n",
       "      <td>8.0500</td>\n",
       "      <td>NaN</td>\n",
       "      <td>S</td>\n",
       "    </tr>\n",
       "  </tbody>\n",
       "</table>\n",
       "</div>"
      ],
      "text/plain": [
       "               PassengerId  Pclass  \\\n",
       "dataset index                        \n",
       "train   0                1       3   \n",
       "        1                2       1   \n",
       "        2                3       3   \n",
       "        3                4       1   \n",
       "        4                5       3   \n",
       "\n",
       "                                                            Name     Sex  \\\n",
       "dataset index                                                              \n",
       "train   0                                Braund, Mr. Owen Harris    male   \n",
       "        1      Cumings, Mrs. John Bradley (Florence Briggs Th...  female   \n",
       "        2                                 Heikkinen, Miss. Laina  female   \n",
       "        3           Futrelle, Mrs. Jacques Heath (Lily May Peel)  female   \n",
       "        4                               Allen, Mr. William Henry    male   \n",
       "\n",
       "                Age  SibSp  Parch            Ticket     Fare Cabin Embarked  \n",
       "dataset index                                                                \n",
       "train   0      22.0      1      0         A/5 21171   7.2500   NaN        S  \n",
       "        1      38.0      1      0          PC 17599  71.2833   C85        C  \n",
       "        2      26.0      0      0  STON/O2. 3101282   7.9250   NaN        S  \n",
       "        3      35.0      1      0            113803  53.1000  C123        S  \n",
       "        4      35.0      0      0            373450   8.0500   NaN        S  "
      ]
     },
     "execution_count": 10,
     "metadata": {},
     "output_type": "execute_result"
    }
   ],
   "source": [
    "train_test = pd.concat([data_train,data_test],keys = ['train','test'],names = ['dataset','index'])\n",
    "train_test.head()"
   ]
  },
  {
   "cell_type": "code",
   "execution_count": 11,
   "metadata": {},
   "outputs": [
    {
     "name": "stdout",
     "output_type": "stream",
     "text": [
      "<class 'pandas.core.frame.DataFrame'>\n",
      "MultiIndex: 1309 entries, (train, 0) to (test, 417)\n",
      "Data columns (total 11 columns):\n",
      "PassengerId    1309 non-null int64\n",
      "Pclass         1309 non-null int64\n",
      "Name           1309 non-null object\n",
      "Sex            1309 non-null object\n",
      "Age            1046 non-null float64\n",
      "SibSp          1309 non-null int64\n",
      "Parch          1309 non-null int64\n",
      "Ticket         1309 non-null object\n",
      "Fare           1308 non-null float64\n",
      "Cabin          295 non-null object\n",
      "Embarked       1307 non-null object\n",
      "dtypes: float64(2), int64(4), object(5)\n",
      "memory usage: 123.4+ KB\n"
     ]
    }
   ],
   "source": [
    "train_test.info()"
   ]
  },
  {
   "cell_type": "code",
   "execution_count": 12,
   "metadata": {},
   "outputs": [
    {
     "name": "stdout",
     "output_type": "stream",
     "text": [
      "<class 'pandas.core.frame.DataFrame'>\n",
      "MultiIndex: 1309 entries, (train, 0) to (test, 417)\n",
      "Data columns (total 8 columns):\n",
      "Pclass      1309 non-null int64\n",
      "Sex         1309 non-null object\n",
      "Age         1046 non-null float64\n",
      "SibSp       1309 non-null int64\n",
      "Parch       1309 non-null int64\n",
      "Fare        1308 non-null float64\n",
      "Cabin       295 non-null object\n",
      "Embarked    1307 non-null object\n",
      "dtypes: float64(2), int64(3), object(3)\n",
      "memory usage: 92.7+ KB\n"
     ]
    }
   ],
   "source": [
    "#Drop 'PassengerId','Ticket','Name'\n",
    "train_test.drop(['PassengerId','Ticket','Name'],axis = 1,inplace=True)\n",
    "train_test.info()"
   ]
  },
  {
   "cell_type": "code",
   "execution_count": 13,
   "metadata": {},
   "outputs": [
    {
     "data": {
      "text/plain": [
       "Pclass         0\n",
       "Sex            0\n",
       "Age          263\n",
       "SibSp          0\n",
       "Parch          0\n",
       "Fare           1\n",
       "Cabin       1014\n",
       "Embarked       2\n",
       "dtype: int64"
      ]
     },
     "execution_count": 13,
     "metadata": {},
     "output_type": "execute_result"
    }
   ],
   "source": [
    "train_test.isnull().sum()"
   ]
  },
  {
   "cell_type": "code",
   "execution_count": 14,
   "metadata": {},
   "outputs": [
    {
     "data": {
      "text/plain": [
       "0.7758224942616679"
      ]
     },
     "execution_count": 14,
     "metadata": {},
     "output_type": "execute_result"
    }
   ],
   "source": [
    "1014 / float(1307)"
   ]
  },
  {
   "cell_type": "code",
   "execution_count": 15,
   "metadata": {
    "collapsed": true
   },
   "outputs": [],
   "source": [
    "#More than 75% missing vals in Cabin\n",
    "train_test.drop(['Cabin'],axis=1,inplace=True)"
   ]
  },
  {
   "cell_type": "code",
   "execution_count": 16,
   "metadata": {
    "collapsed": true
   },
   "outputs": [],
   "source": [
    "#Fill missing vals in other cols\n",
    "avgAge = train_test['Age'].mean()"
   ]
  },
  {
   "cell_type": "code",
   "execution_count": 17,
   "metadata": {
    "collapsed": true
   },
   "outputs": [],
   "source": [
    "train_test['Age'] = train_test['Age'].fillna(avgAge)"
   ]
  },
  {
   "cell_type": "code",
   "execution_count": 18,
   "metadata": {},
   "outputs": [
    {
     "data": {
      "text/plain": [
       "29.881137667304014"
      ]
     },
     "execution_count": 18,
     "metadata": {},
     "output_type": "execute_result"
    }
   ],
   "source": [
    "avgAge"
   ]
  },
  {
   "cell_type": "code",
   "execution_count": 19,
   "metadata": {},
   "outputs": [
    {
     "data": {
      "text/plain": [
       "count     1307\n",
       "unique       3\n",
       "top          S\n",
       "freq       914\n",
       "Name: Embarked, dtype: object"
      ]
     },
     "execution_count": 19,
     "metadata": {},
     "output_type": "execute_result"
    }
   ],
   "source": [
    "train_test['Embarked'].describe()"
   ]
  },
  {
   "cell_type": "code",
   "execution_count": 20,
   "metadata": {
    "collapsed": true
   },
   "outputs": [],
   "source": [
    "train_test['Embarked'] = train_test['Embarked'].fillna('S')"
   ]
  },
  {
   "cell_type": "code",
   "execution_count": 21,
   "metadata": {
    "collapsed": true
   },
   "outputs": [],
   "source": [
    "train_test['Fare'] = train_test['Fare'].fillna(train_test['Fare'].mean())"
   ]
  },
  {
   "cell_type": "code",
   "execution_count": 22,
   "metadata": {},
   "outputs": [
    {
     "data": {
      "text/plain": [
       "Pclass      0\n",
       "Sex         0\n",
       "Age         0\n",
       "SibSp       0\n",
       "Parch       0\n",
       "Fare        0\n",
       "Embarked    0\n",
       "dtype: int64"
      ]
     },
     "execution_count": 22,
     "metadata": {},
     "output_type": "execute_result"
    }
   ],
   "source": [
    "#No missing val\n",
    "train_test.isnull().sum()"
   ]
  },
  {
   "cell_type": "code",
   "execution_count": 23,
   "metadata": {
    "collapsed": true
   },
   "outputs": [],
   "source": [
    "train = train_test.loc['train']\n",
    "test = train_test.loc['test']"
   ]
  },
  {
   "cell_type": "code",
   "execution_count": 24,
   "metadata": {},
   "outputs": [
    {
     "name": "stderr",
     "output_type": "stream",
     "text": [
      "/Users/adityajoshi/anaconda2/lib/python2.7/site-packages/ipykernel_launcher.py:1: SettingWithCopyWarning: \n",
      "A value is trying to be set on a copy of a slice from a DataFrame.\n",
      "Try using .loc[row_indexer,col_indexer] = value instead\n",
      "\n",
      "See the caveats in the documentation: http://pandas.pydata.org/pandas-docs/stable/indexing.html#indexing-view-versus-copy\n",
      "  \"\"\"Entry point for launching an IPython kernel.\n"
     ]
    }
   ],
   "source": [
    "train['Survived'] = survived"
   ]
  },
  {
   "cell_type": "code",
   "execution_count": 25,
   "metadata": {},
   "outputs": [
    {
     "data": {
      "text/html": [
       "<div>\n",
       "<style>\n",
       "    .dataframe thead tr:only-child th {\n",
       "        text-align: right;\n",
       "    }\n",
       "\n",
       "    .dataframe thead th {\n",
       "        text-align: left;\n",
       "    }\n",
       "\n",
       "    .dataframe tbody tr th {\n",
       "        vertical-align: top;\n",
       "    }\n",
       "</style>\n",
       "<table border=\"1\" class=\"dataframe\">\n",
       "  <thead>\n",
       "    <tr style=\"text-align: right;\">\n",
       "      <th></th>\n",
       "      <th>Pclass</th>\n",
       "      <th>Sex</th>\n",
       "      <th>Age</th>\n",
       "      <th>SibSp</th>\n",
       "      <th>Parch</th>\n",
       "      <th>Fare</th>\n",
       "      <th>Embarked</th>\n",
       "      <th>Survived</th>\n",
       "    </tr>\n",
       "    <tr>\n",
       "      <th>index</th>\n",
       "      <th></th>\n",
       "      <th></th>\n",
       "      <th></th>\n",
       "      <th></th>\n",
       "      <th></th>\n",
       "      <th></th>\n",
       "      <th></th>\n",
       "      <th></th>\n",
       "    </tr>\n",
       "  </thead>\n",
       "  <tbody>\n",
       "    <tr>\n",
       "      <th>0</th>\n",
       "      <td>3</td>\n",
       "      <td>male</td>\n",
       "      <td>22.0</td>\n",
       "      <td>1</td>\n",
       "      <td>0</td>\n",
       "      <td>7.2500</td>\n",
       "      <td>S</td>\n",
       "      <td>0</td>\n",
       "    </tr>\n",
       "    <tr>\n",
       "      <th>1</th>\n",
       "      <td>1</td>\n",
       "      <td>female</td>\n",
       "      <td>38.0</td>\n",
       "      <td>1</td>\n",
       "      <td>0</td>\n",
       "      <td>71.2833</td>\n",
       "      <td>C</td>\n",
       "      <td>1</td>\n",
       "    </tr>\n",
       "    <tr>\n",
       "      <th>2</th>\n",
       "      <td>3</td>\n",
       "      <td>female</td>\n",
       "      <td>26.0</td>\n",
       "      <td>0</td>\n",
       "      <td>0</td>\n",
       "      <td>7.9250</td>\n",
       "      <td>S</td>\n",
       "      <td>1</td>\n",
       "    </tr>\n",
       "    <tr>\n",
       "      <th>3</th>\n",
       "      <td>1</td>\n",
       "      <td>female</td>\n",
       "      <td>35.0</td>\n",
       "      <td>1</td>\n",
       "      <td>0</td>\n",
       "      <td>53.1000</td>\n",
       "      <td>S</td>\n",
       "      <td>1</td>\n",
       "    </tr>\n",
       "    <tr>\n",
       "      <th>4</th>\n",
       "      <td>3</td>\n",
       "      <td>male</td>\n",
       "      <td>35.0</td>\n",
       "      <td>0</td>\n",
       "      <td>0</td>\n",
       "      <td>8.0500</td>\n",
       "      <td>S</td>\n",
       "      <td>0</td>\n",
       "    </tr>\n",
       "  </tbody>\n",
       "</table>\n",
       "</div>"
      ],
      "text/plain": [
       "       Pclass     Sex   Age  SibSp  Parch     Fare Embarked  Survived\n",
       "index                                                                \n",
       "0           3    male  22.0      1      0   7.2500        S         0\n",
       "1           1  female  38.0      1      0  71.2833        C         1\n",
       "2           3  female  26.0      0      0   7.9250        S         1\n",
       "3           1  female  35.0      1      0  53.1000        S         1\n",
       "4           3    male  35.0      0      0   8.0500        S         0"
      ]
     },
     "execution_count": 25,
     "metadata": {},
     "output_type": "execute_result"
    }
   ],
   "source": [
    "train.head()"
   ]
  },
  {
   "cell_type": "code",
   "execution_count": 26,
   "metadata": {},
   "outputs": [
    {
     "data": {
      "text/plain": [
       "(891, 8)"
      ]
     },
     "execution_count": 26,
     "metadata": {},
     "output_type": "execute_result"
    }
   ],
   "source": [
    "train.shape"
   ]
  },
  {
   "cell_type": "code",
   "execution_count": 27,
   "metadata": {},
   "outputs": [
    {
     "data": {
      "text/plain": [
       "(891,)"
      ]
     },
     "execution_count": 27,
     "metadata": {},
     "output_type": "execute_result"
    }
   ],
   "source": [
    "survived.shape"
   ]
  },
  {
   "cell_type": "code",
   "execution_count": 28,
   "metadata": {
    "collapsed": true
   },
   "outputs": [],
   "source": [
    "#EDA \n",
    "\n",
    "plt.figure(figsize=(12,6))\n",
    "g = sns.countplot(x = survived,data=train,hue='Sex')\n",
    "for p in g.patches:\n",
    "    g.annotate(\"%d\" % p.get_height(), (p.get_x() + p.get_width() / 2., p.get_height()),\n",
    "             ha='center', va='center', xytext=(0, 8), textcoords='offset points')"
   ]
  },
  {
   "cell_type": "code",
   "execution_count": 29,
   "metadata": {},
   "outputs": [
    {
     "data": {
      "image/png": "[encoded data removed]",
      "text/plain": [
       "<matplotlib.figure.Figure at 0x112871290>"
      ]
     },
     "metadata": {},
     "output_type": "display_data"
    }
   ],
   "source": [
    "plt.show()"
   ]
  },
  {
   "cell_type": "code",
   "execution_count": 30,
   "metadata": {},
   "outputs": [
    {
     "data": {
      "text/plain": [
       "Sex\n",
       "female    0.257962\n",
       "male      0.811092\n",
       "Name: Survived, dtype: float64"
      ]
     },
     "execution_count": 30,
     "metadata": {},
     "output_type": "execute_result"
    }
   ],
   "source": [
    "1-train.groupby(by = 'Sex')['Survived'].mean()"
   ]
  },
  {
   "cell_type": "code",
   "execution_count": 31,
   "metadata": {},
   "outputs": [
    {
     "data": {
      "text/plain": [
       "3.24"
      ]
     },
     "execution_count": 31,
     "metadata": {},
     "output_type": "execute_result"
    }
   ],
   "source": [
    "#Ratio of Males lost relative to the females lost\n",
    ".81/.25"
   ]
  },
  {
   "cell_type": "code",
   "execution_count": 32,
   "metadata": {
    "collapsed": true
   },
   "outputs": [],
   "source": [
    "plt.figure(figsize=(12,6))\n",
    "g = sns.countplot(x = 'Pclass',data = train)\n",
    "for p in g.patches:\n",
    "        g.annotate(\"%d\" % p.get_height(), (p.get_x() + p.get_width() / 2., p.get_height()),\n",
    "             ha='center', va='center', xytext=(0, 8), textcoords='offset points')"
   ]
  },
  {
   "cell_type": "code",
   "execution_count": 33,
   "metadata": {},
   "outputs": [
    {
     "data": {
      "image/png": "[encoded data removed]",
      "text/plain": [
       "<matplotlib.figure.Figure at 0x112816d50>"
      ]
     },
     "metadata": {},
     "output_type": "display_data"
    }
   ],
   "source": [
    "plt.show()"
   ]
  },
  {
   "cell_type": "code",
   "execution_count": 34,
   "metadata": {},
   "outputs": [
    {
     "data": {
      "text/plain": [
       "Pclass\n",
       "1    0.370370\n",
       "2    0.527174\n",
       "3    0.757637\n",
       "Name: Survived, dtype: float64"
      ]
     },
     "execution_count": 34,
     "metadata": {},
     "output_type": "execute_result"
    }
   ],
   "source": [
    "1-train.groupby(by = 'Pclass')['Survived'].mean()"
   ]
  },
  {
   "cell_type": "code",
   "execution_count": 35,
   "metadata": {},
   "outputs": [
    {
     "data": {
      "text/plain": [
       "Embarked\n",
       "C    0.446429\n",
       "Q    0.610390\n",
       "S    0.660991\n",
       "Name: Survived, dtype: float64"
      ]
     },
     "execution_count": 35,
     "metadata": {},
     "output_type": "execute_result"
    }
   ],
   "source": [
    "1-train.groupby(by = 'Embarked')['Survived'].mean()"
   ]
  },
  {
   "cell_type": "code",
   "execution_count": 36,
   "metadata": {},
   "outputs": [
    {
     "data": {
      "image/png": "[encoded data removed]",
      "text/plain": [
       "<matplotlib.figure.Figure at 0x1127a4e90>"
      ]
     },
     "metadata": {},
     "output_type": "display_data"
    }
   ],
   "source": [
    "plt.figure(figsize=(12,6))\n",
    "g = sns.countplot(x = 'Embarked',data = train,hue = 'Pclass')\n",
    "for p in g.patches:\n",
    "        g.annotate(\"%d\" % p.get_height(), (p.get_x() + p.get_width() / 2., p.get_height()),\n",
    "             ha='center', va='center', xytext=(0, 8), textcoords='offset points')\n",
    "plt.show()"
   ]
  },
  {
   "cell_type": "code",
   "execution_count": 37,
   "metadata": {
    "collapsed": true
   },
   "outputs": [],
   "source": [
    "g = sns.FacetGrid(train,row='Pclass',col='Embarked',size=5,aspect=0.7)\n",
    "g = (g.map(sns.countplot,'Survived',hue='Sex',data=train,palette='Set1')).add_legend()\n",
    "for ax in g.axes.ravel():\n",
    "    for p in ax.patches:\n",
    "        ax.annotate(\"%0.2f\" % p.get_height(), (p.get_x() + p.get_width() / 2., p.get_height()),\n",
    "             ha='center', va='center', xytext=(0, 8), textcoords='offset points')"
   ]
  },
  {
   "cell_type": "code",
   "execution_count": 38,
   "metadata": {},
   "outputs": [
    {
     "data": {
      "image/png": "[encoded data removed]",
      "text/plain": [
       "<matplotlib.figure.Figure at 0x112866e90>"
      ]
     },
     "metadata": {},
     "output_type": "display_data"
    }
   ],
   "source": [
    "plt.show()"
   ]
  },
  {
   "cell_type": "code",
   "execution_count": 39,
   "metadata": {
    "collapsed": true
   },
   "outputs": [],
   "source": [
    "ECS = pd.DataFrame(train.groupby(by = ['Embarked','Pclass'])['Sex'].value_counts())"
   ]
  },
  {
   "cell_type": "code",
   "execution_count": 40,
   "metadata": {
    "collapsed": true
   },
   "outputs": [],
   "source": [
    "ECS_per = pd.DataFrame(1 - train.groupby(by = ['Embarked','Pclass','Sex'])['Survived'].mean())\n"
   ]
  },
  {
   "cell_type": "code",
   "execution_count": 41,
   "metadata": {},
   "outputs": [
    {
     "data": {
      "text/html": [
       "<style  type=\"text/css\" >\n",
       "    #T_f09dafc0_1d01_11e8_8eec_c4b301b4519crow0_col0 {\n",
       "            text-align:  right;\n",
       "        }    #T_f09dafc0_1d01_11e8_8eec_c4b301b4519crow0_col1 {\n",
       "            text-align:  right;\n",
       "        }    #T_f09dafc0_1d01_11e8_8eec_c4b301b4519crow0_col2 {\n",
       "            text-align:  right;\n",
       "        }    #T_f09dafc0_1d01_11e8_8eec_c4b301b4519crow1_col0 {\n",
       "            text-align:  right;\n",
       "        }    #T_f09dafc0_1d01_11e8_8eec_c4b301b4519crow1_col1 {\n",
       "            text-align:  right;\n",
       "        }    #T_f09dafc0_1d01_11e8_8eec_c4b301b4519crow1_col2 {\n",
       "            text-align:  right;\n",
       "        }    #T_f09dafc0_1d01_11e8_8eec_c4b301b4519crow2_col0 {\n",
       "            text-align:  right;\n",
       "        }    #T_f09dafc0_1d01_11e8_8eec_c4b301b4519crow2_col1 {\n",
       "            text-align:  right;\n",
       "        }    #T_f09dafc0_1d01_11e8_8eec_c4b301b4519crow2_col2 {\n",
       "            text-align:  right;\n",
       "        }    #T_f09dafc0_1d01_11e8_8eec_c4b301b4519crow3_col0 {\n",
       "            text-align:  right;\n",
       "        }    #T_f09dafc0_1d01_11e8_8eec_c4b301b4519crow3_col1 {\n",
       "            text-align:  right;\n",
       "        }    #T_f09dafc0_1d01_11e8_8eec_c4b301b4519crow3_col2 {\n",
       "            text-align:  right;\n",
       "        }    #T_f09dafc0_1d01_11e8_8eec_c4b301b4519crow4_col0 {\n",
       "            text-align:  right;\n",
       "        }    #T_f09dafc0_1d01_11e8_8eec_c4b301b4519crow4_col1 {\n",
       "            text-align:  right;\n",
       "        }    #T_f09dafc0_1d01_11e8_8eec_c4b301b4519crow4_col2 {\n",
       "            text-align:  right;\n",
       "        }    #T_f09dafc0_1d01_11e8_8eec_c4b301b4519crow5_col0 {\n",
       "            text-align:  right;\n",
       "        }    #T_f09dafc0_1d01_11e8_8eec_c4b301b4519crow5_col1 {\n",
       "            text-align:  right;\n",
       "        }    #T_f09dafc0_1d01_11e8_8eec_c4b301b4519crow5_col2 {\n",
       "            text-align:  right;\n",
       "        }    #T_f09dafc0_1d01_11e8_8eec_c4b301b4519crow6_col0 {\n",
       "            text-align:  right;\n",
       "        }    #T_f09dafc0_1d01_11e8_8eec_c4b301b4519crow6_col1 {\n",
       "            text-align:  right;\n",
       "        }    #T_f09dafc0_1d01_11e8_8eec_c4b301b4519crow6_col2 {\n",
       "            text-align:  right;\n",
       "        }    #T_f09dafc0_1d01_11e8_8eec_c4b301b4519crow7_col0 {\n",
       "            text-align:  right;\n",
       "        }    #T_f09dafc0_1d01_11e8_8eec_c4b301b4519crow7_col1 {\n",
       "            text-align:  right;\n",
       "        }    #T_f09dafc0_1d01_11e8_8eec_c4b301b4519crow7_col2 {\n",
       "            text-align:  right;\n",
       "        }    #T_f09dafc0_1d01_11e8_8eec_c4b301b4519crow8_col0 {\n",
       "            text-align:  right;\n",
       "        }    #T_f09dafc0_1d01_11e8_8eec_c4b301b4519crow8_col1 {\n",
       "            text-align:  right;\n",
       "        }    #T_f09dafc0_1d01_11e8_8eec_c4b301b4519crow8_col2 {\n",
       "            text-align:  right;\n",
       "        }    #T_f09dafc0_1d01_11e8_8eec_c4b301b4519crow9_col0 {\n",
       "            text-align:  right;\n",
       "        }    #T_f09dafc0_1d01_11e8_8eec_c4b301b4519crow9_col1 {\n",
       "            text-align:  right;\n",
       "        }    #T_f09dafc0_1d01_11e8_8eec_c4b301b4519crow9_col2 {\n",
       "            text-align:  right;\n",
       "        }    #T_f09dafc0_1d01_11e8_8eec_c4b301b4519crow10_col0 {\n",
       "            text-align:  right;\n",
       "        }    #T_f09dafc0_1d01_11e8_8eec_c4b301b4519crow10_col1 {\n",
       "            text-align:  right;\n",
       "        }    #T_f09dafc0_1d01_11e8_8eec_c4b301b4519crow10_col2 {\n",
       "            text-align:  right;\n",
       "        }    #T_f09dafc0_1d01_11e8_8eec_c4b301b4519crow11_col0 {\n",
       "            text-align:  right;\n",
       "        }    #T_f09dafc0_1d01_11e8_8eec_c4b301b4519crow11_col1 {\n",
       "            text-align:  right;\n",
       "        }    #T_f09dafc0_1d01_11e8_8eec_c4b301b4519crow11_col2 {\n",
       "            text-align:  right;\n",
       "        }    #T_f09dafc0_1d01_11e8_8eec_c4b301b4519crow12_col0 {\n",
       "            text-align:  right;\n",
       "        }    #T_f09dafc0_1d01_11e8_8eec_c4b301b4519crow12_col1 {\n",
       "            text-align:  right;\n",
       "        }    #T_f09dafc0_1d01_11e8_8eec_c4b301b4519crow12_col2 {\n",
       "            text-align:  right;\n",
       "        }    #T_f09dafc0_1d01_11e8_8eec_c4b301b4519crow13_col0 {\n",
       "            text-align:  right;\n",
       "        }    #T_f09dafc0_1d01_11e8_8eec_c4b301b4519crow13_col1 {\n",
       "            text-align:  right;\n",
       "        }    #T_f09dafc0_1d01_11e8_8eec_c4b301b4519crow13_col2 {\n",
       "            text-align:  right;\n",
       "        }    #T_f09dafc0_1d01_11e8_8eec_c4b301b4519crow14_col0 {\n",
       "            text-align:  right;\n",
       "        }    #T_f09dafc0_1d01_11e8_8eec_c4b301b4519crow14_col1 {\n",
       "            text-align:  right;\n",
       "        }    #T_f09dafc0_1d01_11e8_8eec_c4b301b4519crow14_col2 {\n",
       "            text-align:  right;\n",
       "        }    #T_f09dafc0_1d01_11e8_8eec_c4b301b4519crow15_col0 {\n",
       "            text-align:  right;\n",
       "        }    #T_f09dafc0_1d01_11e8_8eec_c4b301b4519crow15_col1 {\n",
       "            text-align:  right;\n",
       "        }    #T_f09dafc0_1d01_11e8_8eec_c4b301b4519crow15_col2 {\n",
       "            text-align:  right;\n",
       "        }    #T_f09dafc0_1d01_11e8_8eec_c4b301b4519crow16_col0 {\n",
       "            text-align:  right;\n",
       "        }    #T_f09dafc0_1d01_11e8_8eec_c4b301b4519crow16_col1 {\n",
       "            text-align:  right;\n",
       "        }    #T_f09dafc0_1d01_11e8_8eec_c4b301b4519crow16_col2 {\n",
       "            text-align:  right;\n",
       "        }    #T_f09dafc0_1d01_11e8_8eec_c4b301b4519crow17_col0 {\n",
       "            text-align:  right;\n",
       "        }    #T_f09dafc0_1d01_11e8_8eec_c4b301b4519crow17_col1 {\n",
       "            text-align:  right;\n",
       "        }    #T_f09dafc0_1d01_11e8_8eec_c4b301b4519crow17_col2 {\n",
       "            text-align:  right;\n",
       "        }</style>  \n",
       "<table id=\"T_f09dafc0_1d01_11e8_8eec_c4b301b4519c\" > \n",
       "<thead>    <tr> \n",
       "        <th class=\"blank\" ></th> \n",
       "        <th class=\"blank\" ></th> \n",
       "        <th class=\"blank level0\" ></th> \n",
       "        <th class=\"col_heading level0 col0\" >Total number of passengers</th> \n",
       "        <th class=\"col_heading level0 col1\" >Number of passengers lost</th> \n",
       "        <th class=\"col_heading level0 col2\" >Percentage of passengers lost</th> \n",
       "    </tr>    <tr> \n",
       "        <th class=\"index_name level0\" >Embarked</th> \n",
       "        <th class=\"index_name level1\" >Pclass</th> \n",
       "        <th class=\"index_name level2\" >Sex</th> \n",
       "        <th class=\"blank\" ></th> \n",
       "        <th class=\"blank\" ></th> \n",
       "        <th class=\"blank\" ></th> \n",
       "    </tr></thead> \n",
       "<tbody>    <tr> \n",
       "        <th id=\"T_f09dafc0_1d01_11e8_8eec_c4b301b4519clevel0_row0\" class=\"row_heading level0 row0\" rowspan=6>C</th> \n",
       "        <th id=\"T_f09dafc0_1d01_11e8_8eec_c4b301b4519clevel1_row0\" class=\"row_heading level1 row0\" rowspan=2>1</th> \n",
       "        <th id=\"T_f09dafc0_1d01_11e8_8eec_c4b301b4519clevel2_row0\" class=\"row_heading level2 row0\" >female</th> \n",
       "        <td id=\"T_f09dafc0_1d01_11e8_8eec_c4b301b4519crow0_col0\" class=\"data row0 col0\" >43</td> \n",
       "        <td id=\"T_f09dafc0_1d01_11e8_8eec_c4b301b4519crow0_col1\" class=\"data row0 col1\" >1</td> \n",
       "        <td id=\"T_f09dafc0_1d01_11e8_8eec_c4b301b4519crow0_col2\" class=\"data row0 col2\" >0.0232558</td> \n",
       "    </tr>    <tr> \n",
       "        <th id=\"T_f09dafc0_1d01_11e8_8eec_c4b301b4519clevel2_row1\" class=\"row_heading level2 row1\" >male</th> \n",
       "        <td id=\"T_f09dafc0_1d01_11e8_8eec_c4b301b4519crow1_col0\" class=\"data row1 col0\" >42</td> \n",
       "        <td id=\"T_f09dafc0_1d01_11e8_8eec_c4b301b4519crow1_col1\" class=\"data row1 col1\" >25</td> \n",
       "        <td id=\"T_f09dafc0_1d01_11e8_8eec_c4b301b4519crow1_col2\" class=\"data row1 col2\" >0.595238</td> \n",
       "    </tr>    <tr> \n",
       "        <th id=\"T_f09dafc0_1d01_11e8_8eec_c4b301b4519clevel1_row2\" class=\"row_heading level1 row2\" rowspan=2>2</th> \n",
       "        <th id=\"T_f09dafc0_1d01_11e8_8eec_c4b301b4519clevel2_row2\" class=\"row_heading level2 row2\" >female</th> \n",
       "        <td id=\"T_f09dafc0_1d01_11e8_8eec_c4b301b4519crow2_col0\" class=\"data row2 col0\" >7</td> \n",
       "        <td id=\"T_f09dafc0_1d01_11e8_8eec_c4b301b4519crow2_col1\" class=\"data row2 col1\" >0</td> \n",
       "        <td id=\"T_f09dafc0_1d01_11e8_8eec_c4b301b4519crow2_col2\" class=\"data row2 col2\" >0</td> \n",
       "    </tr>    <tr> \n",
       "        <th id=\"T_f09dafc0_1d01_11e8_8eec_c4b301b4519clevel2_row3\" class=\"row_heading level2 row3\" >male</th> \n",
       "        <td id=\"T_f09dafc0_1d01_11e8_8eec_c4b301b4519crow3_col0\" class=\"data row3 col0\" >10</td> \n",
       "        <td id=\"T_f09dafc0_1d01_11e8_8eec_c4b301b4519crow3_col1\" class=\"data row3 col1\" >8</td> \n",
       "        <td id=\"T_f09dafc0_1d01_11e8_8eec_c4b301b4519crow3_col2\" class=\"data row3 col2\" >0.8</td> \n",
       "    </tr>    <tr> \n",
       "        <th id=\"T_f09dafc0_1d01_11e8_8eec_c4b301b4519clevel1_row4\" class=\"row_heading level1 row4\" rowspan=2>3</th> \n",
       "        <th id=\"T_f09dafc0_1d01_11e8_8eec_c4b301b4519clevel2_row4\" class=\"row_heading level2 row4\" >female</th> \n",
       "        <td id=\"T_f09dafc0_1d01_11e8_8eec_c4b301b4519crow4_col0\" class=\"data row4 col0\" >23</td> \n",
       "        <td id=\"T_f09dafc0_1d01_11e8_8eec_c4b301b4519crow4_col1\" class=\"data row4 col1\" >8</td> \n",
       "        <td id=\"T_f09dafc0_1d01_11e8_8eec_c4b301b4519crow4_col2\" class=\"data row4 col2\" >0.347826</td> \n",
       "    </tr>    <tr> \n",
       "        <th id=\"T_f09dafc0_1d01_11e8_8eec_c4b301b4519clevel2_row5\" class=\"row_heading level2 row5\" >male</th> \n",
       "        <td id=\"T_f09dafc0_1d01_11e8_8eec_c4b301b4519crow5_col0\" class=\"data row5 col0\" >43</td> \n",
       "        <td id=\"T_f09dafc0_1d01_11e8_8eec_c4b301b4519crow5_col1\" class=\"data row5 col1\" >33</td> \n",
       "        <td id=\"T_f09dafc0_1d01_11e8_8eec_c4b301b4519crow5_col2\" class=\"data row5 col2\" >0.767442</td> \n",
       "    </tr>    <tr> \n",
       "        <th id=\"T_f09dafc0_1d01_11e8_8eec_c4b301b4519clevel0_row6\" class=\"row_heading level0 row6\" rowspan=6>Q</th> \n",
       "        <th id=\"T_f09dafc0_1d01_11e8_8eec_c4b301b4519clevel1_row6\" class=\"row_heading level1 row6\" rowspan=2>1</th> \n",
       "        <th id=\"T_f09dafc0_1d01_11e8_8eec_c4b301b4519clevel2_row6\" class=\"row_heading level2 row6\" >female</th> \n",
       "        <td id=\"T_f09dafc0_1d01_11e8_8eec_c4b301b4519crow6_col0\" class=\"data row6 col0\" >1</td> \n",
       "        <td id=\"T_f09dafc0_1d01_11e8_8eec_c4b301b4519crow6_col1\" class=\"data row6 col1\" >0</td> \n",
       "        <td id=\"T_f09dafc0_1d01_11e8_8eec_c4b301b4519crow6_col2\" class=\"data row6 col2\" >0</td> \n",
       "    </tr>    <tr> \n",
       "        <th id=\"T_f09dafc0_1d01_11e8_8eec_c4b301b4519clevel2_row7\" class=\"row_heading level2 row7\" >male</th> \n",
       "        <td id=\"T_f09dafc0_1d01_11e8_8eec_c4b301b4519crow7_col0\" class=\"data row7 col0\" >1</td> \n",
       "        <td id=\"T_f09dafc0_1d01_11e8_8eec_c4b301b4519crow7_col1\" class=\"data row7 col1\" >1</td> \n",
       "        <td id=\"T_f09dafc0_1d01_11e8_8eec_c4b301b4519crow7_col2\" class=\"data row7 col2\" >1</td> \n",
       "    </tr>    <tr> \n",
       "        <th id=\"T_f09dafc0_1d01_11e8_8eec_c4b301b4519clevel1_row8\" class=\"row_heading level1 row8\" rowspan=2>2</th> \n",
       "        <th id=\"T_f09dafc0_1d01_11e8_8eec_c4b301b4519clevel2_row8\" class=\"row_heading level2 row8\" >female</th> \n",
       "        <td id=\"T_f09dafc0_1d01_11e8_8eec_c4b301b4519crow8_col0\" class=\"data row8 col0\" >2</td> \n",
       "        <td id=\"T_f09dafc0_1d01_11e8_8eec_c4b301b4519crow8_col1\" class=\"data row8 col1\" >0</td> \n",
       "        <td id=\"T_f09dafc0_1d01_11e8_8eec_c4b301b4519crow8_col2\" class=\"data row8 col2\" >0</td> \n",
       "    </tr>    <tr> \n",
       "        <th id=\"T_f09dafc0_1d01_11e8_8eec_c4b301b4519clevel2_row9\" class=\"row_heading level2 row9\" >male</th> \n",
       "        <td id=\"T_f09dafc0_1d01_11e8_8eec_c4b301b4519crow9_col0\" class=\"data row9 col0\" >1</td> \n",
       "        <td id=\"T_f09dafc0_1d01_11e8_8eec_c4b301b4519crow9_col1\" class=\"data row9 col1\" >1</td> \n",
       "        <td id=\"T_f09dafc0_1d01_11e8_8eec_c4b301b4519crow9_col2\" class=\"data row9 col2\" >1</td> \n",
       "    </tr>    <tr> \n",
       "        <th id=\"T_f09dafc0_1d01_11e8_8eec_c4b301b4519clevel1_row10\" class=\"row_heading level1 row10\" rowspan=2>3</th> \n",
       "        <th id=\"T_f09dafc0_1d01_11e8_8eec_c4b301b4519clevel2_row10\" class=\"row_heading level2 row10\" >female</th> \n",
       "        <td id=\"T_f09dafc0_1d01_11e8_8eec_c4b301b4519crow10_col0\" class=\"data row10 col0\" >33</td> \n",
       "        <td id=\"T_f09dafc0_1d01_11e8_8eec_c4b301b4519crow10_col1\" class=\"data row10 col1\" >9</td> \n",
       "        <td id=\"T_f09dafc0_1d01_11e8_8eec_c4b301b4519crow10_col2\" class=\"data row10 col2\" >0.272727</td> \n",
       "    </tr>    <tr> \n",
       "        <th id=\"T_f09dafc0_1d01_11e8_8eec_c4b301b4519clevel2_row11\" class=\"row_heading level2 row11\" >male</th> \n",
       "        <td id=\"T_f09dafc0_1d01_11e8_8eec_c4b301b4519crow11_col0\" class=\"data row11 col0\" >39</td> \n",
       "        <td id=\"T_f09dafc0_1d01_11e8_8eec_c4b301b4519crow11_col1\" class=\"data row11 col1\" >36</td> \n",
       "        <td id=\"T_f09dafc0_1d01_11e8_8eec_c4b301b4519crow11_col2\" class=\"data row11 col2\" >0.923077</td> \n",
       "    </tr>    <tr> \n",
       "        <th id=\"T_f09dafc0_1d01_11e8_8eec_c4b301b4519clevel0_row12\" class=\"row_heading level0 row12\" rowspan=6>S</th> \n",
       "        <th id=\"T_f09dafc0_1d01_11e8_8eec_c4b301b4519clevel1_row12\" class=\"row_heading level1 row12\" rowspan=2>1</th> \n",
       "        <th id=\"T_f09dafc0_1d01_11e8_8eec_c4b301b4519clevel2_row12\" class=\"row_heading level2 row12\" >female</th> \n",
       "        <td id=\"T_f09dafc0_1d01_11e8_8eec_c4b301b4519crow12_col0\" class=\"data row12 col0\" >50</td> \n",
       "        <td id=\"T_f09dafc0_1d01_11e8_8eec_c4b301b4519crow12_col1\" class=\"data row12 col1\" >2</td> \n",
       "        <td id=\"T_f09dafc0_1d01_11e8_8eec_c4b301b4519crow12_col2\" class=\"data row12 col2\" >0.04</td> \n",
       "    </tr>    <tr> \n",
       "        <th id=\"T_f09dafc0_1d01_11e8_8eec_c4b301b4519clevel2_row13\" class=\"row_heading level2 row13\" >male</th> \n",
       "        <td id=\"T_f09dafc0_1d01_11e8_8eec_c4b301b4519crow13_col0\" class=\"data row13 col0\" >79</td> \n",
       "        <td id=\"T_f09dafc0_1d01_11e8_8eec_c4b301b4519crow13_col1\" class=\"data row13 col1\" >51</td> \n",
       "        <td id=\"T_f09dafc0_1d01_11e8_8eec_c4b301b4519crow13_col2\" class=\"data row13 col2\" >0.64557</td> \n",
       "    </tr>    <tr> \n",
       "        <th id=\"T_f09dafc0_1d01_11e8_8eec_c4b301b4519clevel1_row14\" class=\"row_heading level1 row14\" rowspan=2>2</th> \n",
       "        <th id=\"T_f09dafc0_1d01_11e8_8eec_c4b301b4519clevel2_row14\" class=\"row_heading level2 row14\" >female</th> \n",
       "        <td id=\"T_f09dafc0_1d01_11e8_8eec_c4b301b4519crow14_col0\" class=\"data row14 col0\" >67</td> \n",
       "        <td id=\"T_f09dafc0_1d01_11e8_8eec_c4b301b4519crow14_col1\" class=\"data row14 col1\" >6</td> \n",
       "        <td id=\"T_f09dafc0_1d01_11e8_8eec_c4b301b4519crow14_col2\" class=\"data row14 col2\" >0.0895522</td> \n",
       "    </tr>    <tr> \n",
       "        <th id=\"T_f09dafc0_1d01_11e8_8eec_c4b301b4519clevel2_row15\" class=\"row_heading level2 row15\" >male</th> \n",
       "        <td id=\"T_f09dafc0_1d01_11e8_8eec_c4b301b4519crow15_col0\" class=\"data row15 col0\" >97</td> \n",
       "        <td id=\"T_f09dafc0_1d01_11e8_8eec_c4b301b4519crow15_col1\" class=\"data row15 col1\" >82</td> \n",
       "        <td id=\"T_f09dafc0_1d01_11e8_8eec_c4b301b4519crow15_col2\" class=\"data row15 col2\" >0.845361</td> \n",
       "    </tr>    <tr> \n",
       "        <th id=\"T_f09dafc0_1d01_11e8_8eec_c4b301b4519clevel1_row16\" class=\"row_heading level1 row16\" rowspan=2>3</th> \n",
       "        <th id=\"T_f09dafc0_1d01_11e8_8eec_c4b301b4519clevel2_row16\" class=\"row_heading level2 row16\" >female</th> \n",
       "        <td id=\"T_f09dafc0_1d01_11e8_8eec_c4b301b4519crow16_col0\" class=\"data row16 col0\" >88</td> \n",
       "        <td id=\"T_f09dafc0_1d01_11e8_8eec_c4b301b4519crow16_col1\" class=\"data row16 col1\" >55</td> \n",
       "        <td id=\"T_f09dafc0_1d01_11e8_8eec_c4b301b4519crow16_col2\" class=\"data row16 col2\" >0.625</td> \n",
       "    </tr>    <tr> \n",
       "        <th id=\"T_f09dafc0_1d01_11e8_8eec_c4b301b4519clevel2_row17\" class=\"row_heading level2 row17\" >male</th> \n",
       "        <td id=\"T_f09dafc0_1d01_11e8_8eec_c4b301b4519crow17_col0\" class=\"data row17 col0\" >265</td> \n",
       "        <td id=\"T_f09dafc0_1d01_11e8_8eec_c4b301b4519crow17_col1\" class=\"data row17 col1\" >231</td> \n",
       "        <td id=\"T_f09dafc0_1d01_11e8_8eec_c4b301b4519crow17_col2\" class=\"data row17 col2\" >0.871698</td> \n",
       "    </tr></tbody> \n",
       "</table> "
      ],
      "text/plain": [
       "<pandas.io.formats.style.Styler at 0x11ba45990>"
      ]
     },
     "execution_count": 41,
     "metadata": {},
     "output_type": "execute_result"
    }
   ],
   "source": [
    "#ECS_per = pd.DataFrame(round(1 - train.groupby(by = ['Embarked','Pclass','Sex'])['Survived'].mean(),3))\n",
    "#ECS_per = pd.DataFrame(1 - train.groupby(by = ['Embarked','Pclass','Sex'])['Survived'].mean(),3)\n",
    "ECS_lost = pd.DataFrame(train.groupby(by = ['Embarked','Pclass'])['Sex'].value_counts() - train.groupby(by = ['Embarked', 'Pclass', 'Sex'])['Survived'].sum())\n",
    "ECS = pd.concat([ECS, ECS_lost,ECS_per], axis = 1)\n",
    "ECS.columns = ['Total number of passengers', 'Number of passengers lost','Percentage of passengers lost']\n",
    "ECS = ECS.style.set_properties(**{'text-align': 'right'})\n",
    "ECS"
   ]
  },
  {
   "cell_type": "code",
   "execution_count": 42,
   "metadata": {},
   "outputs": [
    {
     "data": {
      "text/plain": [
       "count    891.000000\n",
       "mean      29.735277\n",
       "std       13.002218\n",
       "min        0.420000\n",
       "25%       22.000000\n",
       "50%       29.881138\n",
       "75%       35.000000\n",
       "max       80.000000\n",
       "Name: Age, dtype: float64"
      ]
     },
     "execution_count": 42,
     "metadata": {},
     "output_type": "execute_result"
    }
   ],
   "source": [
    "#Age\n",
    "train['Age'].describe()"
   ]
  },
  {
   "cell_type": "code",
   "execution_count": 43,
   "metadata": {},
   "outputs": [
    {
     "data": {
      "text/plain": [
       "<matplotlib.axes._subplots.AxesSubplot at 0x1a1d02f610>"
      ]
     },
     "execution_count": 43,
     "metadata": {},
     "output_type": "execute_result"
    }
   ],
   "source": [
    "plt.figure(figsize=(16,6))\n",
    "sns.distplot(train['Age'],kde=False,bins=150)"
   ]
  },
  {
   "cell_type": "code",
   "execution_count": 44,
   "metadata": {},
   "outputs": [
    {
     "data": {
      "image/png": "[encoded data removed]",
      "text/plain": [
       "<matplotlib.figure.Figure at 0x1a1d02fad0>"
      ]
     },
     "metadata": {},
     "output_type": "display_data"
    }
   ],
   "source": [
    "plt.show()"
   ]
  },
  {
   "cell_type": "code",
   "execution_count": 45,
   "metadata": {},
   "outputs": [
    {
     "data": {
      "text/html": [
       "<div>\n",
       "<style>\n",
       "    .dataframe thead tr:only-child th {\n",
       "        text-align: right;\n",
       "    }\n",
       "\n",
       "    .dataframe thead th {\n",
       "        text-align: left;\n",
       "    }\n",
       "\n",
       "    .dataframe tbody tr th {\n",
       "        vertical-align: top;\n",
       "    }\n",
       "</style>\n",
       "<table border=\"1\" class=\"dataframe\">\n",
       "  <thead>\n",
       "    <tr style=\"text-align: right;\">\n",
       "      <th></th>\n",
       "      <th>count</th>\n",
       "      <th>mean</th>\n",
       "      <th>std</th>\n",
       "      <th>min</th>\n",
       "      <th>25%</th>\n",
       "      <th>50%</th>\n",
       "      <th>75%</th>\n",
       "      <th>max</th>\n",
       "    </tr>\n",
       "    <tr>\n",
       "      <th>Sex</th>\n",
       "      <th></th>\n",
       "      <th></th>\n",
       "      <th></th>\n",
       "      <th></th>\n",
       "      <th></th>\n",
       "      <th></th>\n",
       "      <th></th>\n",
       "      <th></th>\n",
       "    </tr>\n",
       "  </thead>\n",
       "  <tbody>\n",
       "    <tr>\n",
       "      <th>female</th>\n",
       "      <td>314.0</td>\n",
       "      <td>28.247453</td>\n",
       "      <td>12.881271</td>\n",
       "      <td>0.75</td>\n",
       "      <td>21.0</td>\n",
       "      <td>29.881138</td>\n",
       "      <td>35.0</td>\n",
       "      <td>63.0</td>\n",
       "    </tr>\n",
       "    <tr>\n",
       "      <th>male</th>\n",
       "      <td>577.0</td>\n",
       "      <td>30.544941</td>\n",
       "      <td>13.007263</td>\n",
       "      <td>0.42</td>\n",
       "      <td>23.0</td>\n",
       "      <td>29.881138</td>\n",
       "      <td>35.0</td>\n",
       "      <td>80.0</td>\n",
       "    </tr>\n",
       "  </tbody>\n",
       "</table>\n",
       "</div>"
      ],
      "text/plain": [
       "        count       mean        std   min   25%        50%   75%   max\n",
       "Sex                                                                   \n",
       "female  314.0  28.247453  12.881271  0.75  21.0  29.881138  35.0  63.0\n",
       "male    577.0  30.544941  13.007263  0.42  23.0  29.881138  35.0  80.0"
      ]
     },
     "execution_count": 45,
     "metadata": {},
     "output_type": "execute_result"
    }
   ],
   "source": [
    "train.groupby(by = 'Sex')['Age'].describe()"
   ]
  },
  {
   "cell_type": "code",
   "execution_count": 46,
   "metadata": {},
   "outputs": [
    {
     "data": {
      "image/png": "[encoded data removed]",
      "text/plain": [
       "<matplotlib.figure.Figure at 0x11ad77450>"
      ]
     },
     "metadata": {},
     "output_type": "display_data"
    }
   ],
   "source": [
    "plt.figure(figsize=(12,6))\n",
    "sns.boxplot(x = 'Sex',y = 'Age',data = train)\n",
    "plt.show()"
   ]
  },
  {
   "cell_type": "code",
   "execution_count": 47,
   "metadata": {
    "collapsed": true
   },
   "outputs": [],
   "source": [
    "#Fare"
   ]
  },
  {
   "cell_type": "code",
   "execution_count": 48,
   "metadata": {},
   "outputs": [
    {
     "data": {
      "text/plain": [
       "count    891.000000\n",
       "mean      32.204208\n",
       "std       49.693429\n",
       "min        0.000000\n",
       "25%        7.910400\n",
       "50%       14.454200\n",
       "75%       31.000000\n",
       "max      512.329200\n",
       "Name: Fare, dtype: float64"
      ]
     },
     "execution_count": 48,
     "metadata": {},
     "output_type": "execute_result"
    }
   ],
   "source": [
    "train['Fare'].describe()"
   ]
  },
  {
   "cell_type": "code",
   "execution_count": 49,
   "metadata": {},
   "outputs": [
    {
     "data": {
      "image/png": "[encoded data removed]",
      "text/plain": [
       "<matplotlib.figure.Figure at 0x1a1d283290>"
      ]
     },
     "metadata": {},
     "output_type": "display_data"
    }
   ],
   "source": [
    "plt.figure(figsize=(16,6))\n",
    "sns.distplot(train['Fare'],hist_kws={'edgecolor':'k'}, kde=False,bins=150)\n",
    "plt.show()"
   ]
  },
  {
   "cell_type": "code",
   "execution_count": 50,
   "metadata": {},
   "outputs": [
    {
     "name": "stderr",
     "output_type": "stream",
     "text": [
      "/Users/adityajoshi/anaconda2/lib/python2.7/site-packages/statsmodels/compat/pandas.py:56: FutureWarning: The pandas.core.datetools module is deprecated and will be removed in a future version. Please use the pandas.tseries module instead.\n",
      "  from pandas.core import datetools\n"
     ]
    }
   ],
   "source": [
    "#Applying ML algorithms.\n",
    "\n",
    "from sklearn.model_selection import train_test_split, cross_val_score\n",
    "from sklearn.linear_model import LogisticRegression\n",
    "from sklearn.metrics import classification_report, confusion_matrix\n",
    "import numpy as np\n",
    "import statsmodels.api as sm\n",
    "from sklearn.dummy import DummyClassifier\n",
    "from sklearn.discriminant_analysis import LinearDiscriminantAnalysis, QuadraticDiscriminantAnalysis\n",
    "from sklearn.preprocessing import StandardScaler\n",
    "from sklearn.neighbors import KNeighborsClassifier\n",
    "from sklearn.ensemble import VotingClassifier\n",
    "from sklearn.decomposition import PCA\n",
    "from sklearn.feature_selection import RFECV"
   ]
  },
  {
   "cell_type": "code",
   "execution_count": 51,
   "metadata": {
    "collapsed": true
   },
   "outputs": [],
   "source": [
    "train_get_dummy = pd.get_dummies(columns=['Sex', 'Pclass', 'Embarked'], drop_first = True, data = train)"
   ]
  },
  {
   "cell_type": "code",
   "execution_count": 52,
   "metadata": {},
   "outputs": [
    {
     "data": {
      "text/html": [
       "<div>\n",
       "<style>\n",
       "    .dataframe thead tr:only-child th {\n",
       "        text-align: right;\n",
       "    }\n",
       "\n",
       "    .dataframe thead th {\n",
       "        text-align: left;\n",
       "    }\n",
       "\n",
       "    .dataframe tbody tr th {\n",
       "        vertical-align: top;\n",
       "    }\n",
       "</style>\n",
       "<table border=\"1\" class=\"dataframe\">\n",
       "  <thead>\n",
       "    <tr style=\"text-align: right;\">\n",
       "      <th></th>\n",
       "      <th>Age</th>\n",
       "      <th>SibSp</th>\n",
       "      <th>Parch</th>\n",
       "      <th>Fare</th>\n",
       "      <th>Survived</th>\n",
       "      <th>Sex_male</th>\n",
       "      <th>Pclass_2</th>\n",
       "      <th>Pclass_3</th>\n",
       "      <th>Embarked_Q</th>\n",
       "      <th>Embarked_S</th>\n",
       "    </tr>\n",
       "    <tr>\n",
       "      <th>index</th>\n",
       "      <th></th>\n",
       "      <th></th>\n",
       "      <th></th>\n",
       "      <th></th>\n",
       "      <th></th>\n",
       "      <th></th>\n",
       "      <th></th>\n",
       "      <th></th>\n",
       "      <th></th>\n",
       "      <th></th>\n",
       "    </tr>\n",
       "  </thead>\n",
       "  <tbody>\n",
       "    <tr>\n",
       "      <th>0</th>\n",
       "      <td>22.0</td>\n",
       "      <td>1</td>\n",
       "      <td>0</td>\n",
       "      <td>7.2500</td>\n",
       "      <td>0</td>\n",
       "      <td>1</td>\n",
       "      <td>0</td>\n",
       "      <td>1</td>\n",
       "      <td>0</td>\n",
       "      <td>1</td>\n",
       "    </tr>\n",
       "    <tr>\n",
       "      <th>1</th>\n",
       "      <td>38.0</td>\n",
       "      <td>1</td>\n",
       "      <td>0</td>\n",
       "      <td>71.2833</td>\n",
       "      <td>1</td>\n",
       "      <td>0</td>\n",
       "      <td>0</td>\n",
       "      <td>0</td>\n",
       "      <td>0</td>\n",
       "      <td>0</td>\n",
       "    </tr>\n",
       "    <tr>\n",
       "      <th>2</th>\n",
       "      <td>26.0</td>\n",
       "      <td>0</td>\n",
       "      <td>0</td>\n",
       "      <td>7.9250</td>\n",
       "      <td>1</td>\n",
       "      <td>0</td>\n",
       "      <td>0</td>\n",
       "      <td>1</td>\n",
       "      <td>0</td>\n",
       "      <td>1</td>\n",
       "    </tr>\n",
       "    <tr>\n",
       "      <th>3</th>\n",
       "      <td>35.0</td>\n",
       "      <td>1</td>\n",
       "      <td>0</td>\n",
       "      <td>53.1000</td>\n",
       "      <td>1</td>\n",
       "      <td>0</td>\n",
       "      <td>0</td>\n",
       "      <td>0</td>\n",
       "      <td>0</td>\n",
       "      <td>1</td>\n",
       "    </tr>\n",
       "    <tr>\n",
       "      <th>4</th>\n",
       "      <td>35.0</td>\n",
       "      <td>0</td>\n",
       "      <td>0</td>\n",
       "      <td>8.0500</td>\n",
       "      <td>0</td>\n",
       "      <td>1</td>\n",
       "      <td>0</td>\n",
       "      <td>1</td>\n",
       "      <td>0</td>\n",
       "      <td>1</td>\n",
       "    </tr>\n",
       "  </tbody>\n",
       "</table>\n",
       "</div>"
      ],
      "text/plain": [
       "        Age  SibSp  Parch     Fare  Survived  Sex_male  Pclass_2  Pclass_3  \\\n",
       "index                                                                        \n",
       "0      22.0      1      0   7.2500         0         1         0         1   \n",
       "1      38.0      1      0  71.2833         1         0         0         0   \n",
       "2      26.0      0      0   7.9250         1         0         0         1   \n",
       "3      35.0      1      0  53.1000         1         0         0         0   \n",
       "4      35.0      0      0   8.0500         0         1         0         1   \n",
       "\n",
       "       Embarked_Q  Embarked_S  \n",
       "index                          \n",
       "0               0           1  \n",
       "1               0           0  \n",
       "2               0           1  \n",
       "3               0           1  \n",
       "4               0           1  "
      ]
     },
     "execution_count": 52,
     "metadata": {},
     "output_type": "execute_result"
    }
   ],
   "source": [
    "train_get_dummy.head()"
   ]
  },
  {
   "cell_type": "code",
   "execution_count": 53,
   "metadata": {
    "collapsed": true
   },
   "outputs": [],
   "source": [
    "def forward_stepwise_selection(df):\n",
    "    p = len(df.columns)\n",
    "    X = df.drop('Survived',axis = 1)\n",
    "    columns = list(X.columns)\n",
    "    y = df['Survived']\n",
    "    best_cols_global = []\n",
    "    for col1 in columns:\n",
    "        max_score = -1\n",
    "        for col2 in columns:\n",
    "            model = LogisticRegression()\n",
    "            if col2 not in best_cols_global:\n",
    "                cols = best_cols_global[:]\n",
    "                cols.append(col2)\n",
    "                model.fit(X[cols],y)\n",
    "                score = model.score(X[cols],y)\n",
    "                if score > max_score:\n",
    "                    max_score = score\n",
    "                    best_col = col2\n",
    "        if best_col not in best_cols_global:\n",
    "            best_cols_global.append(best_col)\n",
    "        print(best_cols_global, max_score)\n",
    "        model = LogisticRegression()\n",
    "        mean_score = cross_val_score(model,X[best_cols_global],y,cv = 5).mean()\n",
    "        print('CV mean score is ', mean_score)"
   ]
  },
  {
   "cell_type": "code",
   "execution_count": 54,
   "metadata": {},
   "outputs": [
    {
     "name": "stdout",
     "output_type": "stream",
     "text": [
      "(['Sex_male'], 0.78675645342312006)\n",
      "('CV mean score is ', 0.78671502492918788)\n",
      "(['Sex_male', 'SibSp'], 0.7912457912457912)\n",
      "('CV mean score is ', 0.78897491193483771)\n",
      "(['Sex_male', 'SibSp', 'Pclass_3'], 0.80022446689113358)\n",
      "('CV mean score is ', 0.79908734241274249)\n",
      "(['Sex_male', 'SibSp', 'Pclass_3', 'Embarked_S'], 0.80359147025813693)\n",
      "('CV mean score is ', 0.80468021166137726)\n",
      "(['Sex_male', 'SibSp', 'Pclass_3', 'Embarked_S', 'Age'], 0.80471380471380471)\n",
      "('CV mean score is ', 0.80246461878148945)\n",
      "(['Sex_male', 'SibSp', 'Pclass_3', 'Embarked_S', 'Age', 'Parch'], 0.8058361391694725)\n",
      "('CV mean score is ', 0.79911273440157016)\n",
      "(['Sex_male', 'SibSp', 'Pclass_3', 'Embarked_S', 'Age', 'Parch', 'Fare'], 0.80920314253647585)\n",
      "('CV mean score is ', 0.79910645733170627)\n",
      "(['Sex_male', 'SibSp', 'Pclass_3', 'Embarked_S', 'Age', 'Parch', 'Fare', 'Pclass_2'], 0.80920314253647585)\n",
      "('CV mean score is ', 0.79463718358868951)\n",
      "(['Sex_male', 'SibSp', 'Pclass_3', 'Embarked_S', 'Age', 'Parch', 'Fare', 'Pclass_2', 'Embarked_Q'], 0.80920314253647585)\n",
      "('CV mean score is ', 0.79463718358868951)\n"
     ]
    }
   ],
   "source": [
    "forward_stepwise_selection(train_get_dummy)"
   ]
  },
  {
   "cell_type": "code",
   "execution_count": 55,
   "metadata": {
    "collapsed": true
   },
   "outputs": [],
   "source": [
    "def summary_results(df):\n",
    "    x_train, x_test, y_train, y_test = train_test_split(df.drop('Survived',axis = 1),df['Survived'],test_size = 0.3,random_state = 100)\n",
    "    k_max = -10\n",
    "    mean_score_max = -10\n",
    "    for kk in range(1,20,2):\n",
    "        KNN_model = KNeighborsClassifier(n_neighbors=kk)\n",
    "        mean_score = cross_val_score(KNN_model,df.drop('Survived',axis = 1),df['Survived'],cv = 5).mean()\n",
    "        if mean_score > mean_score_max:\n",
    "            mean_score_max = mean_score\n",
    "            k_max = kk\n",
    "    print('The best K for KNN using 5 fold CV is',k_max)\n",
    "    DC = DummyClassifier(strategy='most_frequent')\n",
    "    LR = LogisticRegression()\n",
    "    LDA = LinearDiscriminantAnalysis()\n",
    "    QDA = QuadraticDiscriminantAnalysis()\n",
    "    KNN = KNeighborsClassifier(n_neighbors=k_max)\n",
    "    VC = VotingClassifier(estimators=[('lr',LR),('KNN',KNN)],voting='soft')\n",
    "    classfiers = [DC,LR,KNN,VC]\n",
    "    list_of_classifiers = ['Null Classifier','Logistic Regression','K-Nearest Neighbors','Voting Classifier']\n",
    "    max_len = max(list_of_classifiers,key=len)\n",
    "    \n",
    "    \n",
    "    i = 0\n",
    "    for model in classfiers:\n",
    "        model.fit(x_train, y_train)\n",
    "        pred = model.predict(x_test) \n",
    "        Con_mat = confusion_matrix(y_test, pred)\n",
    "        acc = (Con_mat[0,0]+Con_mat[1,1])/float((Con_mat[0,0]+Con_mat[0,1]+Con_mat[1,0]+Con_mat[1,1]))\n",
    "        mean_score = cross_val_score(model, df.drop('Survived', axis = 1), df['Survived'], cv = 5).mean()\n",
    "        diff = len(max_len)-len(list_of_classifiers[i])+5\n",
    "        print('{}{}{:.3f}\\t{:.3f}'.format(list_of_classifiers[i], ' '*diff, acc, mean_score))\n",
    "        #print(list_of_classifiers[i], acc)\n",
    "        i += 1"
   ]
  },
  {
   "cell_type": "code",
   "execution_count": 56,
   "metadata": {},
   "outputs": [
    {
     "name": "stdout",
     "output_type": "stream",
     "text": [
      "('The best K for KNN using 5 fold CV is', 11)\n",
      "Null Classifier         0.593\t0.616\n",
      "Logistic Regression     0.799\t0.802\n",
      "K-Nearest Neighbors     0.750\t0.780\n",
      "Voting Classifier       0.832\t0.825\n"
     ]
    }
   ],
   "source": [
    "summary_results(train_get_dummy[['Survived','Sex_male','SibSp','Pclass_3','Age','Embarked_S']])"
   ]
  },
  {
   "cell_type": "code",
   "execution_count": 57,
   "metadata": {},
   "outputs": [],
   "source": [
    "test_get_dummies = pd.get_dummies(test,columns=['Sex','Pclass','Embarked'],drop_first=True)"
   ]
  },
  {
   "cell_type": "code",
   "execution_count": 58,
   "metadata": {
    "collapsed": true
   },
   "outputs": [],
   "source": [
    "test_get_dummies = test_get_dummies[['Sex_male','SibSp','Pclass_3','Age','Embarked_S']]"
   ]
  },
  {
   "cell_type": "code",
   "execution_count": 59,
   "metadata": {
    "collapsed": true
   },
   "outputs": [],
   "source": [
    "LR = LogisticRegression()\n",
    "KNN = KNeighborsClassifier(n_neighbors=11)\n",
    "best_classifier = VotingClassifier(estimators=[('lr',LR),('KNN',KNN)],voting='soft')"
   ]
  },
  {
   "cell_type": "code",
   "execution_count": 60,
   "metadata": {},
   "outputs": [
    {
     "data": {
      "text/plain": [
       "VotingClassifier(estimators=[('lr', LogisticRegression(C=1.0, class_weight=None, dual=False, fit_intercept=True,\n",
       "          intercept_scaling=1, max_iter=100, multi_class='ovr', n_jobs=1,\n",
       "          penalty='l2', random_state=None, solver='liblinear', tol=0.0001,\n",
       "          verbose=0, warm_start=False)), ('KNN', KNeighborsClassifier(algorithm='auto', leaf_size=30, metric='minkowski',\n",
       "           metric_params=None, n_jobs=1, n_neighbors=11, p=2,\n",
       "           weights='uniform'))],\n",
       "         flatten_transform=None, n_jobs=1, voting='soft', weights=None)"
      ]
     },
     "execution_count": 60,
     "metadata": {},
     "output_type": "execute_result"
    }
   ],
   "source": [
    "best_classifier.fit(train_get_dummy[['Sex_male','SibSp','Pclass_3','Age','Embarked_S']],train_get_dummy['Survived'])"
   ]
  },
  {
   "cell_type": "code",
   "execution_count": 61,
   "metadata": {},
   "outputs": [],
   "source": [
    "PssID_df = pd.DataFrame(Pssid,columns=['PassengerId'])\n",
    "PssID_df['Survived'] = best_classifier.predict(test_get_dummies)\n",
    "PssID_df.to_csv('/Users/adityajoshi/DataSets/Datasets/Titanic/result.csv',index = False)"
   ]
  },
  {
   "cell_type": "markdown",
   "metadata": {},
   "source": [
    "Accuracy on Kaggle: 0.75119"
   ]
  }
 ],
 "metadata": {
  "kernelspec": {
   "display_name": "Python 2",
   "language": "python",
   "name": "python2"
  },
  "language_info": {
   "codemirror_mode": {
    "name": "ipython",
    "version": 2
   },
   "file_extension": ".py",
   "mimetype": "text/x-python",
   "name": "python",
   "nbconvert_exporter": "python",
   "pygments_lexer": "ipython2",
   "version": "2.7.13"
  }
 },
 "nbformat": 4,
 "nbformat_minor": 2
}
